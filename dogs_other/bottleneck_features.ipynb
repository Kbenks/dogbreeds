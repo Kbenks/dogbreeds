{
 "cells": [
  {
   "cell_type": "code",
   "execution_count": 2,
   "metadata": {},
   "outputs": [],
   "source": [
    "from sklearn.datasets import load_files       \n",
    "from keras.utils import np_utils\n",
    "import numpy as np\n",
    "from glob import glob"
   ]
  },
  {
   "cell_type": "code",
   "execution_count": 3,
   "metadata": {},
   "outputs": [],
   "source": [
    "\n",
    "\n",
    "def extract_VGG16(tensor):\n",
    "\tfrom keras.applications.vgg16 import VGG16, preprocess_input\n",
    "\treturn VGG16(weights='imagenet', include_top=False).predict(preprocess_input(tensor))\n",
    "\n",
    "def extract_VGG19(tensor):\n",
    "\tfrom keras.applications.vgg19 import VGG19, preprocess_input\n",
    "\treturn VGG19(weights='imagenet', include_top=False).predict(preprocess_input(tensor))\n",
    "\n",
    "def extract_Resnet50(tensor):\n",
    "\tfrom keras.applications.resnet50 import ResNet50, preprocess_input\n",
    "\treturn ResNet50(weights='imagenet', include_top=False).predict(preprocess_input(tensor))\n",
    "\n",
    "def extract_Xception(tensor):\n",
    "\tfrom keras.applications.xception import Xception, preprocess_input\n",
    "\treturn Xception(weights='imagenet', include_top=False).predict(preprocess_input(tensor))\n",
    "\n",
    "def extract_InceptionV3(tensor):\n",
    "\tfrom keras.applications.inception_v3 import InceptionV3, preprocess_input\n",
    "\treturn InceptionV3(weights='imagenet', include_top=False).predict(preprocess_input(tensor))"
   ]
  }
 ],
 "metadata": {
  "interpreter": {
   "hash": "df8e7c2deb981155838bf92e347b37ea19c68f26a0c1daf5e0f93a4d3384b8a2"
  },
  "kernelspec": {
   "display_name": "Python 3.8.8 ('base')",
   "language": "python",
   "name": "python3"
  },
  "language_info": {
   "codemirror_mode": {
    "name": "ipython",
    "version": 3
   },
   "file_extension": ".py",
   "mimetype": "text/x-python",
   "name": "python",
   "nbconvert_exporter": "python",
   "pygments_lexer": "ipython3",
   "version": "3.8.8"
  },
  "orig_nbformat": 4
 },
 "nbformat": 4,
 "nbformat_minor": 2
}
